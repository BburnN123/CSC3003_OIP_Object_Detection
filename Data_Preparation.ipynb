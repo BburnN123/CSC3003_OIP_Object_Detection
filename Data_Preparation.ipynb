{
 "cells": [
  {
   "cell_type": "markdown",
   "metadata": {},
   "source": [
    "# 0. SETUP\n",
    "\n",
    "Place all the image into a new folder call \"all\". The file will generate a CSV for analysing it"
   ]
  },
  {
   "cell_type": "code",
   "execution_count": null,
   "metadata": {},
   "outputs": [],
   "source": [
    "import os\n",
    "import glob\n",
    "import pandas as pd\n",
    "import xml.etree.ElementTree as ET\n",
    "import numpy as np"
   ]
  },
  {
   "cell_type": "code",
   "execution_count": null,
   "metadata": {},
   "outputs": [],
   "source": [
    "CSV_PATH = \"workspace/annotations\"\n",
    "IMAGE_PATH = os.path.join(\"workspace\", \"images\", \"dataset\")\n",
    "LABEL_FILE = \"dataset_label.csv\""
   ]
  },
  {
   "cell_type": "code",
   "execution_count": null,
   "metadata": {},
   "outputs": [],
   "source": [
    "def xml_to_csv(path):\n",
    "    xml_list = []\n",
    "    for xml_file in glob.glob(path + '/*.xml'):\n",
    "        tree = ET.parse(xml_file)\n",
    "        root = tree.getroot()\n",
    "        for member in root.findall('object'):\n",
    "            value = (root.find('filename').text,\n",
    "                     int(root.find('size')[0].text),\n",
    "                     int(root.find('size')[1].text),\n",
    "                     member[0].text,\n",
    "                     int(member[4][0].text),\n",
    "                     int(member[4][1].text),\n",
    "                     int(member[4][2].text),\n",
    "                     int(member[4][3].text)\n",
    "                     )\n",
    "            xml_list.append(value)\n",
    "    column_name = ['filename', 'width', 'height', 'class', 'xmin', 'ymin', 'xmax', 'ymax']\n",
    "    xml_df = pd.DataFrame(xml_list, columns=column_name)\n",
    "    return xml_df\n",
    "\n"
   ]
  },
  {
   "cell_type": "code",
   "execution_count": null,
   "metadata": {},
   "outputs": [],
   "source": [
    "def main():\n",
    "    image_path = os.path.join(os.getcwd(), (IMAGE_PATH))\n",
    "    xml_df = xml_to_csv(image_path)\n",
    "    xml_df.to_csv((CSV_PATH + \"/\"+ LABEL_FILE), index=None)\n",
    "    print('Successfully converted xml to csv.')\n"
   ]
  },
  {
   "cell_type": "code",
   "execution_count": null,
   "metadata": {},
   "outputs": [],
   "source": [
    "main()"
   ]
  },
  {
   "cell_type": "markdown",
   "metadata": {},
   "source": [
    "# 1. Saving the Data"
   ]
  },
  {
   "cell_type": "code",
   "execution_count": null,
   "metadata": {
    "scrolled": true
   },
   "outputs": [],
   "source": [
    "# Randomize the sequence for training and testing\n",
    "df = pd.read_csv(os.path.join(CSV_PATH, LABEL_FILE)).sample(frac=1).reset_index(drop=True)\n",
    "\n",
    "df"
   ]
  },
  {
   "cell_type": "code",
   "execution_count": null,
   "metadata": {
    "scrolled": true
   },
   "outputs": [],
   "source": [
    "import random\n",
    "\n",
    "list_of_image = {}\n",
    "\n",
    "for index, row in df.iterrows():\n",
    "    d = row.to_dict()\n",
    "    list_of_image[d[\"filename\"]] = d[\"class\"]\n",
    "\n",
    "len(list_of_image)"
   ]
  },
  {
   "cell_type": "markdown",
   "metadata": {},
   "source": [
    "# 2. Analysing the Data"
   ]
  },
  {
   "cell_type": "code",
   "execution_count": null,
   "metadata": {},
   "outputs": [],
   "source": [
    "import matplotlib.pyplot as plt\n",
    "\n",
    "label_class = {}\n",
    "\n",
    "for index in list_of_image:\n",
    "    category = list_of_image[index]\n",
    "\n",
    "    if category not in label_class:\n",
    "        label_class[category] = 1\n",
    "    else:\n",
    "        label_class[category] =  label_class[category] + 1\n",
    "\n",
    "label_class"
   ]
  },
  {
   "cell_type": "code",
   "execution_count": null,
   "metadata": {
    "scrolled": false
   },
   "outputs": [],
   "source": [
    "fig = plt.figure()\n",
    "ax = fig.add_axes([0,0,2,2])\n",
    "\n",
    "category = list(label_class.keys())\n",
    "value = list(label_class.values())\n",
    "\n",
    "ax.bar(category,value)\n",
    "plt.show()\n",
    "\n",
    "print(label_class)"
   ]
  },
  {
   "cell_type": "markdown",
   "metadata": {},
   "source": [
    "# 4. Split the image"
   ]
  },
  {
   "cell_type": "code",
   "execution_count": null,
   "metadata": {},
   "outputs": [],
   "source": [
    "TRAIN_FOLDER =  os.path.join(\"workspace\", \"images\", \"train\")\n",
    "TEST_FOLDER =  os.path.join(\"workspace\", \"images\", \"test\")\n",
    "\n",
    "if not os.path.isdir(TRAIN_FOLDER):\n",
    "    !mkdir {TRAIN_FOLDER}\n",
    "    \n",
    "if not os.path.isdir(TEST_FOLDER):\n",
    "    !mkdir {TEST_FOLDER}\n",
    "\n",
    "#Total image to be taken and split accordingly\n",
    "TOTAL_COUNT = 180"
   ]
  },
  {
   "cell_type": "code",
   "execution_count": null,
   "metadata": {
    "scrolled": true
   },
   "outputs": [],
   "source": [
    "# Add exception = [\"moist plunger\", \"moist syringe\"]\n",
    "\n",
    "TRAIN_DATA = 0.8\n",
    "# exception = ['wet plunger', 'wet syringe', 'moist syringe']\n",
    "# exception = ['dry plunger', 'dry syringe']\n",
    "exception = []\n",
    "\n",
    "for _category in category:\n",
    "    if _category not in exception:\n",
    "        \n",
    "        img_num = 0\n",
    "        \n",
    "        # Get the value\n",
    "        if label_class[_category] < TOTAL_COUNT:\n",
    "            total_num = label_class[_category]\n",
    "            training_num = int(label_class[_category] * TRAIN_DATA)\n",
    "\n",
    "        else:\n",
    "            total_num = TOTAL_COUNT\n",
    "            training_num =  int(TOTAL_COUNT * TRAIN_DATA)\n",
    "\n",
    "\n",
    "        print(training_num)\n",
    "        print(_category)\n",
    "        \n",
    "\n",
    "        for img_name in list_of_image:\n",
    "            \n",
    "            # Name of the image and retrieve the xml to store in to the directory respectively\n",
    "            name = os.path.splitext(img_name)        \n",
    "\n",
    "            img_file = os.path.join(os.getcwd(), IMAGE_PATH, img_name)\n",
    "            xml_file = os.path.join(os.getcwd(), IMAGE_PATH, \"{}.xml\".format(name[0]))\n",
    "\n",
    "            img_class = list_of_image[img_name]\n",
    "\n",
    "            if img_class == _category:\n",
    "                if img_num < training_num:\n",
    "                    !copy \"{img_file}\" {TRAIN_FOLDER}\n",
    "                    !copy \"{xml_file}\" {TRAIN_FOLDER}\n",
    "                elif img_num <= total_num:\n",
    "                    !copy \"{img_file}\" {TEST_FOLDER}\n",
    "                    !copy \"{xml_file}\" {TEST_FOLDER}\n",
    "\n",
    "                img_num = img_num + 1\n",
    "\n",
    "            else:\n",
    "                pass\n",
    "\n",
    "        print(\"{} done with training image : {}, test image : {}\".format(_category, training_num, int(total_num * 0.2)))\n"
   ]
  },
  {
   "cell_type": "markdown",
   "metadata": {},
   "source": [
    "# 4. Sort the image folder (Optional)"
   ]
  },
  {
   "cell_type": "code",
   "execution_count": null,
   "metadata": {},
   "outputs": [],
   "source": [
    "exception = []\n",
    "for _category in category:\n",
    "    if _category not in exception:\n",
    "        \n",
    "        print(_category)\n",
    "        # Place where you want save the folder at\n",
    "        CATEGORY_FOLDER =   os.path.join(IMAGE_PATH, _category)\n",
    "        \n",
    "        if not os.path.isdir(CATEGORY_FOLDER):\n",
    "            !mkdir \"{CATEGORY_FOLDER}\"\n",
    "        \n",
    "        for img_name in list_of_image:\n",
    "            \n",
    "            # Name of the image and retrieve the xml to store in to the directory respectively\n",
    "            name = os.path.splitext(img_name)   \n",
    "            img_file =  os.path.join(IMAGE_PATH, img_name)\n",
    "            \n",
    "            img_class = list_of_image[img_name]\n",
    "\n",
    "            if img_class == _category:\n",
    "                !copy \"{img_file}\" \"{CATEGORY_FOLDER}\"\n",
    "                \n",
    "        print(\"done with {}\".format(_category))"
   ]
  },
  {
   "cell_type": "markdown",
   "metadata": {},
   "source": [
    "# 5. Rename the all the label in xml file (Optional)"
   ]
  },
  {
   "cell_type": "code",
   "execution_count": null,
   "metadata": {},
   "outputs": [],
   "source": [
    "# Changing the label name\n",
    "import fileinput\n",
    "\n",
    "FOLDER_PATH = os.path.join(\"workspace\", \"images\", \"dataset\")\n",
    "ALIAS = \"MS\"\n",
    "PREFIX = 1\n",
    "\n",
    "for img_file in glob.glob(FOLDER_PATH + '/*.jpg'):\n",
    "\n",
    "    img_base = os.path.basename(img_file)\n",
    "    name = os.path.splitext(img_base)[0]\n",
    "        \n",
    "    try:\n",
    "        xml_file = os.path.join(FOLDER_PATH, \"{}.xml\".format(name))\n",
    "\n",
    "\n",
    "        with fileinput.FileInput(xml_file, inplace=True) as file:\n",
    "            for line in file:\n",
    "                print(line.replace(\"moist plunger\", \"wet plunger\"), end='')\n",
    "\n",
    "        print(img_base)\n",
    "    except:\n",
    "        pass\n",
    "    finally:\n",
    "        PREFIX = PREFIX + 1\n",
    "    \n"
   ]
  },
  {
   "cell_type": "markdown",
   "metadata": {},
   "source": [
    "# 6. Change the image name (Optional)"
   ]
  },
  {
   "cell_type": "code",
   "execution_count": null,
   "metadata": {
    "scrolled": true
   },
   "outputs": [],
   "source": [
    "import fileinput\n",
    "\n",
    "FOLDER_PATH = os.path.join(\"dataset\", \"640x640\", \"workspace_image\")\n",
    "ALIAS = \"DTP\"\n",
    "PREFIX = 1\n",
    "\n",
    "for img_file in glob.glob(FOLDER_PATH + '/*.jpg'):\n",
    "\n",
    "    img_base = os.path.basename(img_file)\n",
    "    name = os.path.splitext(img_base)[0]\n",
    "        \n",
    "    try:\n",
    "        xml_file = os.path.join(FOLDER_PATH, \"{}.xml\".format(name))\n",
    "        print(xml_file)\n",
    "\n",
    "        with fileinput.FileInput(xml_file, inplace=True) as file:\n",
    "            for line in file:\n",
    "                print(line.replace(img_base, \"{}_{:0>4}.jpg\".format(ALIAS,PREFIX)), end='')\n",
    "                \n",
    "        \n",
    "        rename_img_file = os.rename(img_file, os.path.join(FOLDER_PATH, \"{}_{:0>4}.jpg\".format(ALIAS,PREFIX)))\n",
    "        rename_xml_file = os.rename(xml_file, os.path.join(FOLDER_PATH, \"{}_{:0>4}.xml\".format(ALIAS,PREFIX)))\n",
    "    except:\n",
    "#         print(\"pass\")\n",
    "        rename_img_file = os.rename(img_file, os.path.join(FOLDER_PATH, \"{}_{:0>4}.jpg\".format(ALIAS,PREFIX)))\n",
    "    finally:\n",
    "        PREFIX = PREFIX + 1\n",
    "    \n"
   ]
  },
  {
   "cell_type": "markdown",
   "metadata": {},
   "source": [
    "# 7. Changing the image to grayscale"
   ]
  },
  {
   "cell_type": "code",
   "execution_count": null,
   "metadata": {},
   "outputs": [],
   "source": [
    "IMAGE_PATH = os.path.join(\"dataset\", \"640x640\", \"workspace_image\")"
   ]
  },
  {
   "cell_type": "code",
   "execution_count": null,
   "metadata": {},
   "outputs": [],
   "source": [
    "from PIL import Image\n",
    "\n",
    "\n",
    "for img_file in glob.glob(IMAGE_PATH + '/*.jpg'):\n",
    "\n",
    "    img_base = os.path.basename(img_file)\n",
    "    \n",
    "    img = Image.open(img_file)\n",
    "    imgGray = img.convert('L')\n",
    "    imgGray.save(os.path.join(IMAGE_PATH, 'grayscale_{}'.format(img_base)))\n",
    "    "
   ]
  },
  {
   "cell_type": "markdown",
   "metadata": {},
   "source": [
    "# 8. Otsu Thresholding"
   ]
  },
  {
   "cell_type": "code",
   "execution_count": null,
   "metadata": {
    "scrolled": true
   },
   "outputs": [],
   "source": [
    "import cv2 as cv\n",
    "import numpy as np\n",
    "from matplotlib import pyplot as plt\n",
    "\n",
    "for img_file in glob.glob(IMAGE_PATH + '/*.jpg'):\n",
    "    print(\"Evaluating {}\".format(img_file))\n",
    "    \n",
    "    original_image = cv.imread(img_file)\n",
    "    img = cv.imread(img_file,0)\n",
    "\n",
    "    # global thresholding\n",
    "    g_threshold, g_image_result = cv.threshold(img,127,255,cv.THRESH_BINARY)\n",
    "    # Otsu's thresholding\n",
    "    o_threshold, o_image_result = cv.threshold(img,0,255,cv.THRESH_BINARY+cv.THRESH_OTSU)\n",
    "\n",
    "    # plot all the images and their histograms\n",
    "    images = [original_image , img, g_image_result, o_image_result]\n",
    "\n",
    "    titles = [\"Original Image\",\n",
    "              \"GrayScale\",\n",
    "              \"Global Thresholding (v=127)\",\n",
    "              \"Ostu's Thresholding\"]\n",
    "\n",
    "    plt.figure(i,figsize=(20, 20))\n",
    "\n",
    "    plt.subplot(221),plt.imshow(images[0])\n",
    "    plt.title(titles[0]), plt.xticks([]), plt.yticks([])\n",
    "\n",
    "    plt.subplot(222),plt.imshow(images[1],'gray')\n",
    "    plt.title(titles[1]), plt.xticks([]), plt.yticks([])\n",
    "\n",
    "    plt.subplot(223),plt.imshow(images[2],'gray')\n",
    "    plt.title(titles[2]), plt.xticks([]), plt.yticks([])\n",
    "\n",
    "    plt.subplot(224),plt.imshow(images[3],'gray')\n",
    "    plt.title(titles[3]), plt.xticks([]), plt.yticks([])\n",
    "    plt.show()"
   ]
  },
  {
   "cell_type": "code",
   "execution_count": null,
   "metadata": {
    "scrolled": true
   },
   "outputs": [],
   "source": [
    "\n",
    "for img_file in glob.glob(IMAGE_PATH + '/*.jpg'):\n",
    "    img = cv.imread(img_file,0)\n",
    "    \n",
    "    # Take the last image extension\n",
    "    img_base = os.path.basename(img_file)\n",
    "    \n",
    "    # Otsu's thresholding\n",
    "    threshold,image_result = cv.threshold(img,0,255,cv.THRESH_BINARY+cv.THRESH_OTSU)\n",
    "    print(\"Evaluating {}, Otsu thresholding score: {}\".format(img_file, threshold))\n",
    "\n",
    "    # plot all the images and their histograms\n",
    "    images = [img, threshold, image_result]\n",
    "    titles = ['Original Noisy Image','Histogram',\"Otsu's Thresholding\"]\n",
    "\n",
    "    plt.figure(i,figsize=(20, 20))\n",
    "    plt.subplot(3,3,1),plt.imshow(images[0],'gray')\n",
    "    plt.title(titles[0]), plt.xticks([]), plt.yticks([])\n",
    "\n",
    "    plt.subplot(3,3,2),plt.hist(images[0].ravel(),256)\n",
    "    plt.title(titles[1]), plt.xticks([]), plt.yticks([])\n",
    "\n",
    "    plt.subplot(3,3,3),plt.imshow(images[2],'gray')\n",
    "    plt.title(titles[2]), plt.xticks([]), plt.yticks([])\n",
    "    plt.show()\n",
    "\n",
    "    # Save the image\n",
    "    cv2.imwrite(os.path.join(IMAGE_PATH, \"otsu_{}\".format(img_base)), image_result )"
   ]
  },
  {
   "cell_type": "code",
   "execution_count": null,
   "metadata": {},
   "outputs": [],
   "source": []
  }
 ],
 "metadata": {
  "kernelspec": {
   "display_name": "Python 3",
   "language": "python",
   "name": "python3"
  },
  "language_info": {
   "codemirror_mode": {
    "name": "ipython",
    "version": 3
   },
   "file_extension": ".py",
   "mimetype": "text/x-python",
   "name": "python",
   "nbconvert_exporter": "python",
   "pygments_lexer": "ipython3",
   "version": "3.8.11"
  }
 },
 "nbformat": 4,
 "nbformat_minor": 4
}
